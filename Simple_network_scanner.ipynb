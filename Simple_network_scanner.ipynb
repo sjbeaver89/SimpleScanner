{
  "nbformat": 4,
  "nbformat_minor": 0,
  "metadata": {
    "colab": {
      "provenance": [],
      "authorship_tag": "ABX9TyMEOwuwyi5jkDZVBRyAjlnh",
      "include_colab_link": true
    },
    "kernelspec": {
      "name": "python3",
      "display_name": "Python 3"
    },
    "language_info": {
      "name": "python"
    }
  },
  "cells": [
    {
      "cell_type": "markdown",
      "metadata": {
        "id": "view-in-github",
        "colab_type": "text"
      },
      "source": [
        "<a href=\"https://colab.research.google.com/github/sjbeaver89/SimpleScanner/blob/main/Simple_network_scanner.ipynb\" target=\"_parent\"><img src=\"https://colab.research.google.com/assets/colab-badge.svg\" alt=\"Open In Colab\"/></a>"
      ]
    },
    {
      "cell_type": "code",
      "source": [],
      "metadata": {
        "id": "MQebEEqE57Gm"
      },
      "execution_count": null,
      "outputs": []
    },
    {
      "cell_type": "code",
      "source": [
        "import socket\n",
        "\n",
        "# This is a sample IP address for a public server.\n",
        "# NEVER scan a network you don't have permission to scan.\n",
        "target_ip = '192.0.2.1'  # Example for a public IP\n",
        "\n",
        "ports_to_check = [22, 80, 443, 8080]\n",
        "\n",
        "for port in ports_to_check:\n",
        "    sock = socket.socket(socket.AF_INET, socket.SOCK_STREAM)\n",
        "    sock.settimeout(1)\n",
        "    result = sock.connect_ex((target_ip, port))\n",
        "\n",
        "    if result == 0:\n",
        "        print(f\"Port {port} is OPEN!\")\n",
        "    else:\n",
        "        print(f\"Port {port} is CLOSED.\")\n",
        "    sock.close()\n",
        "\n",
        "\n",
        "print(\"Scan complete.\")"
      ],
      "metadata": {
        "colab": {
          "base_uri": "https://localhost:8080/"
        },
        "id": "PRPAn5n75gYA",
        "outputId": "178e5164-8105-47be-e093-395f3f3b3127"
      },
      "execution_count": 6,
      "outputs": [
        {
          "output_type": "stream",
          "name": "stdout",
          "text": [
            "Port 22 is CLOSED.\n",
            "Port 80 is CLOSED.\n",
            "Port 443 is CLOSED.\n",
            "Port 8080 is CLOSED.\n",
            "Scan complete.\n"
          ]
        }
      ]
    }
  ]
}